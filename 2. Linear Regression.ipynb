{
 "cells": [
  {
   "cell_type": "markdown",
   "metadata": {},
   "source": [
    "# Linear Regression with Tensorflow\n",
    "\n",
    "This tutorial will show you a simple linear regression example.\n",
    "We will declare some variable X, with corresponding dependent variables Y, and try to model their relationship using linear regression.\n",
    "\n",
    "Here, first declare the packages we will be using: Tensorflow, numpy and matplotlib.pyplot. We will use numpy to create our data and generate some numbers. Matplotlib.pyplot would help us construct matlab-like plots (if you are familiar with Matlab), to plot our resulting fitted line.\n"
   ]
  },
  {
   "cell_type": "code",
   "execution_count": 1,
   "metadata": {
    "collapsed": true
   },
   "outputs": [],
   "source": [
    "import tensorflow as tf\n",
    "import numpy as np\n",
    "import matplotlib.pyplot as plt"
   ]
  },
  {
   "cell_type": "markdown",
   "metadata": {},
   "source": [
    "Below, we will declare some of the fixed parameters we will use in our learning, and plot-drawing."
   ]
  },
  {
   "cell_type": "code",
   "execution_count": 2,
   "metadata": {
    "collapsed": true
   },
   "outputs": [],
   "source": [
    "learning_rate = 0.01\n",
    "training_epochs = 1000\n",
    "display_step = 50"
   ]
  },
  {
   "cell_type": "markdown",
   "metadata": {},
   "source": [
    "In the following part, we will declare our dataset. We only use one dimensional features here for X, so that we can visualize it later on in a 2-dimensional plot. "
   ]
  },
  {
   "cell_type": "code",
   "execution_count": 3,
   "metadata": {
    "collapsed": true
   },
   "outputs": [],
   "source": [
    "train_X = np.asarray([3.3,4.4,5.5,6.71,6.93,4.168,9.779,6.182,7.59,2.167,\n",
    "                         7.042,10.791,5.313,7.997,5.654,9.27,3.1])\n",
    "train_Y = np.asarray([1.7,2.76,2.09,3.19,1.694,1.573,3.366,2.596,2.53,1.221,\n",
    "                         2.827,3.465,1.65,2.904,2.42,2.94,1.3])\n",
    "n_samples = train_X.shape[0]"
   ]
  },
  {
   "cell_type": "markdown",
   "metadata": {},
   "source": [
    "Now we move on to the part where we will start our learning with Tensorflow. \n",
    "\n",
    "We first declare some Placeholder Tensors to represt our input data. Since they are only one dimensional, we declare their type to be a float number. \n",
    "\n",
    "Next, we will declare the Variable Tensors. This depends on the parameters we will train in our learning method.\n",
    "For our data, we will be training the following model:\n",
    "\n",
    "\\begin{equation}\n",
    "    y = W*x + b\n",
    "\\end{equation}\n",
    "\n",
    "This gives us two parameters which values we need to train, a weighting coefficient*W*, and a bias factor *b*. \n",
    "Since they will be declared as Variable Tensors, we need to give them an initial value to work on. Below, we use a randomizer to do that."
   ]
  },
  {
   "cell_type": "code",
   "execution_count": 4,
   "metadata": {
    "collapsed": true
   },
   "outputs": [],
   "source": [
    "#Declare input data type\n",
    "x=tf.placeholder(tf.float32)\n",
    "y=tf.placeholder(tf.float32)\n",
    "\n",
    "#Declare trainable parameters\n",
    "randomizer=np.random\n",
    "W=tf.Variable(randomizer.randn(), tf.float32, name=\"weight\")\n",
    "b=tf.Variable(randomizer.randn(), tf.float32, name=\"bias\")"
   ]
  },
  {
   "cell_type": "markdown",
   "metadata": {},
   "source": [
    "After declaring our data and parameters, we move on to declaring our model, and a cost function to evaluate it against. \n",
    "\n",
    "There are different cost function that you can use. Here, we give you two examples: the sum of squares, and the mean squared error, that you can choose from.\n",
    "\n",
    "If y' is the predicted value of y given by our learned model, the sum of squares and mean squared error equations are given as follows:\n",
    "\n",
    "\\begin{equation}\n",
    "Sum\\_of\\_squares = \\sum_{n=1}^{N} y_n'² - y_n²\n",
    "\\end{equation}\n",
    "\n",
    "\\begin{equation}\n",
    "MSE = \\frac{Sum\\_of\\_squares}{2 * N}\n",
    "\\end{equation}\n",
    "\n",
    "*N is the number of of data."
   ]
  },
  {
   "cell_type": "code",
   "execution_count": 7,
   "metadata": {
    "collapsed": false
   },
   "outputs": [],
   "source": [
    "#Declare model\n",
    "linear_model=tf.add(tf.multiply(W,x),b) #depending on your Tensorflow version, you might need to change tf.mul to tf.multiply\n",
    "\n",
    "#Declare cost function\n",
    "loss=tf.reduce_sum(tf.square(linear_model-y)) #sum of squares\n",
    "loss_=tf.reduce_sum(tf.pow(linear_model-y,2))/(2*n_samples) #mean squared error"
   ]
  },
  {
   "cell_type": "markdown",
   "metadata": {},
   "source": [
    "Next, we declare the method that we want to use to optimize our learning parameters. Here, we will use a Gradient Descent optimizer. To declare the optimizer, we need to indicate a learning rate, and associate it with the cost function."
   ]
  },
  {
   "cell_type": "code",
   "execution_count": 8,
   "metadata": {
    "collapsed": true
   },
   "outputs": [],
   "source": [
    "optimizer=tf.train.GradientDescentOptimizer(learning_rate).minimize(loss_)"
   ]
  },
  {
   "cell_type": "markdown",
   "metadata": {},
   "source": [
    "Finally, we can move on to fitting our data into a regression model."
   ]
  },
  {
   "cell_type": "code",
   "execution_count": 11,
   "metadata": {
    "collapsed": false
   },
   "outputs": [
    {
     "name": "stdout",
     "output_type": "stream",
     "text": [
      " Epoch: 0050 cost= 0.310483515 W= 0.519679 b= -1.14151\n",
      "Epoch: 0100 cost= 0.283513367 W= 0.503616 b= -1.02595\n",
      "Epoch: 0150 cost= 0.259656936 W= 0.488508 b= -0.917267\n",
      "Epoch: 0200 cost= 0.238555044 W= 0.474299 b= -0.815046\n",
      "Epoch: 0250 cost= 0.219889790 W= 0.460934 b= -0.718904\n",
      "Epoch: 0300 cost= 0.203379929 W= 0.448365 b= -0.62848\n",
      "Epoch: 0350 cost= 0.188776419 W= 0.436543 b= -0.543435\n",
      "Epoch: 0400 cost= 0.175859481 W= 0.425424 b= -0.463447\n",
      "Epoch: 0450 cost= 0.164434075 W= 0.414967 b= -0.388217\n",
      "Epoch: 0500 cost= 0.154328331 W= 0.405131 b= -0.317462\n",
      "Epoch: 0550 cost= 0.145389676 W= 0.395881 b= -0.250914\n",
      "Epoch: 0600 cost= 0.137483403 W= 0.38718 b= -0.188324\n",
      "Epoch: 0650 cost= 0.130490318 W= 0.378997 b= -0.129456\n",
      "Epoch: 0700 cost= 0.124305055 W= 0.371301 b= -0.0740898\n",
      "Epoch: 0750 cost= 0.118834212 W= 0.364063 b= -0.0220162\n",
      "Epoch: 0800 cost= 0.113995403 W= 0.357255 b= 0.0269602\n",
      "Epoch: 0850 cost= 0.109715641 W= 0.350852 b= 0.0730238\n",
      "Epoch: 0900 cost= 0.105930336 W= 0.344829 b= 0.116348\n",
      "Epoch: 0950 cost= 0.102582395 W= 0.339165 b= 0.157095\n",
      "Epoch: 1000 cost= 0.099621348 W= 0.333838 b= 0.195419\n",
      "Optimization Finished!\n",
      "Training cost= 0.0996213 W= 0.333838 b= 0.195419 \n",
      "\n"
     ]
    },
    {
     "data": {
      "image/png": "[encoded data removed]",
      "text/plain": [
       "<matplotlib.figure.Figure at 0x7f7764e69f90>"
      ]
     },
     "metadata": {},
     "output_type": "display_data"
    }
   ],
   "source": [
    "#Initialize variables\n",
    "init = tf.global_variables_initializer()\n",
    "\n",
    "#Perform learning\n",
    "with tf.Session() as sess:\n",
    "    sess.run(init)\n",
    "    for epoch in range(training_epochs):\n",
    "        for (x_, y_) in zip(train_X, train_Y):\n",
    "            sess.run(optimizer, {x:x_, y:y_})\n",
    "\n",
    "    #Display logs per epoch step\n",
    "        if (epoch+1) % display_step == 0:\n",
    "            c = sess.run(loss_, feed_dict={x: train_X, y:train_Y})\n",
    "            print \"Epoch:\", '%04d' % (epoch+1), \"cost=\", \"{:.9f}\".format(c), \\\n",
    "                \"W=\", sess.run(W), \"b=\", sess.run(b)\n",
    "\n",
    "    print \"Optimization Finished!\"\n",
    "    training_cost = sess.run(loss_, feed_dict={x: train_X, y: train_Y})\n",
    "    print \"Training cost=\", training_cost, \"W=\", sess.run(W), \"b=\", sess.run(b), '\\n'\n",
    "\n",
    "     #Graphic display\n",
    "    plt.plot(train_X, train_Y, 'ro', label='Original data')\n",
    "    plt.plot(train_X, sess.run(W) * train_X + sess.run(b), label='Fitted line')\n",
    "    plt.legend()\n",
    "    plt.show()"
   ]
  }
 ],
 "metadata": {
  "kernelspec": {
   "display_name": "tensorflow",
   "language": "python",
   "name": "tensorflow"
  },
  "language_info": {
   "codemirror_mode": {
    "name": "ipython",
    "version": 2
   },
   "file_extension": ".py",
   "mimetype": "text/x-python",
   "name": "python",
   "nbconvert_exporter": "python",
   "pygments_lexer": "ipython2",
   "version": "2.7.12"
  }
 },
 "nbformat": 4,
 "nbformat_minor": 2
}
