{
 "cells": [
  {
   "cell_type": "markdown",
   "metadata": {},
   "source": [
    "# Basic operations in Tensorflow\n",
    "\n",
    "This tutorial will show you basic operations to program in Tensorflow, starting with declaring constants, operations, and variables to use later on in other examples. \n",
    "\n",
    "First, to program using Tensorflow, we declare the import statement. \n"
   ]
  },
  {
   "cell_type": "code",
   "execution_count": 1,
   "metadata": {
    "collapsed": true
   },
   "outputs": [],
   "source": [
    "import tensorflow as tf"
   ]
  },
  {
   "cell_type": "markdown",
   "metadata": {},
   "source": [
    "In Tensorflow, computations are represented as graphs. Nodes in the graph are often referred to as ops (short for operation). An op can take zero or more Tensors, perform computation, and output zero or more Tensors.\n",
    "\n",
    "Tensorflow programs can be seen as having two disctint parts:\n",
    "1. Building computational graphs\n",
    "2. Running computational graphs\n",
    "\n",
    "Below, we will perform the first part of programming in Tensorflow, i.e. building a computational graph, in which we declare nodes. The first type of node we will declare is constant. A constant node takes no Tensors as input, and outputs a Tensor with a certain value."
   ]
  },
  {
   "cell_type": "code",
   "execution_count": 2,
   "metadata": {
    "collapsed": false
   },
   "outputs": [
    {
     "name": "stdout",
     "output_type": "stream",
     "text": [
      "(<tf.Tensor 'Const:0' shape=() dtype=float32>, <tf.Tensor 'Const_1:0' shape=() dtype=float32>)\n"
     ]
    }
   ],
   "source": [
    "node1 = tf.constant(3.0, tf.float32)\n",
    "node2 = tf.constant(4.0) \n",
    "\n",
    "print(node1, node2)"
   ]
  },
  {
   "cell_type": "markdown",
   "metadata": {},
   "source": [
    "Printing these nodes do not output the values of the node, which we are interested in it, but gives us a description of the created Tensors. To output the *values* of Tensors, we need to *evaluate* the nodes. That is, we run the computational graphs. This can be done by creating a Session object, and running that Session while passing on the nodes that we would like to evaluate."
   ]
  },
  {
   "cell_type": "code",
   "execution_count": 3,
   "metadata": {
    "collapsed": false
   },
   "outputs": [
    {
     "name": "stdout",
     "output_type": "stream",
     "text": [
      "3.0\n",
      "[3.0, 4.0]\n",
      "7.0\n"
     ]
    }
   ],
   "source": [
    "sess = tf.Session()\n",
    "print(sess.run(node1))\n",
    "print(sess.run([node1, node2]))\n",
    "print(sess.run(node1+node2))"
   ]
  },
  {
   "cell_type": "markdown",
   "metadata": {},
   "source": [
    "Below, we will now create Tensors that perform computation. These Tensors receive one or more Tensors as input, and outputs a Tensor with a certain value. "
   ]
  },
  {
   "cell_type": "code",
   "execution_count": 4,
   "metadata": {
    "collapsed": false
   },
   "outputs": [
    {
     "name": "stdout",
     "output_type": "stream",
     "text": [
      "7.0\n"
     ]
    }
   ],
   "source": [
    "node3 = tf.add(node1, node2)\n",
    "print(sess.run(node3))"
   ]
  },
  {
   "cell_type": "markdown",
   "metadata": {},
   "source": [
    "In the following, we will create Tensors that contain matrices and perform operation on matrices."
   ]
  },
  {
   "cell_type": "code",
   "execution_count": 5,
   "metadata": {
    "collapsed": false
   },
   "outputs": [
    {
     "name": "stdout",
     "output_type": "stream",
     "text": [
      "[[ 12.]]\n",
      "1.0\n"
     ]
    }
   ],
   "source": [
    "# Create a Constant op that produces a 1x2 matrix.  \n",
    "matrix1 = tf.constant([[3., 3.]])\n",
    "\n",
    "# Create another Constant that produces a 2x1 matrix.\n",
    "matrix2 = tf.constant([[2.],[2.]])\n",
    "\n",
    "# Create a Matmul op that takes 'matrix1' and 'matrix2' as inputs.\n",
    "product = tf.matmul(matrix1, matrix2)\n",
    "\n",
    "with tf.Session() as sess:\n",
    "    result = sess.run(product)\n",
    "    result2 = sess.run(matrix1[0,0] - matrix2[1,0])\n",
    "    print result\n",
    "    print result2"
   ]
  },
  {
   "cell_type": "markdown",
   "metadata": {},
   "source": [
    "Notice how accessing elements in a Tensor is different with accessing elements in a Python list."
   ]
  },
  {
   "cell_type": "code",
   "execution_count": 6,
   "metadata": {
    "collapsed": false
   },
   "outputs": [
    {
     "name": "stdout",
     "output_type": "stream",
     "text": [
      "4\n"
     ]
    }
   ],
   "source": [
    "matrix3=[[1,3,4],3]\n",
    "print matrix3[0][2]"
   ]
  },
  {
   "cell_type": "markdown",
   "metadata": {},
   "source": [
    "If we want to parametrize a graph, we can create Placeholder Tensors. This type of Tensor basically tells us that when it is used in a running Session, it will be given some values (that we input ourselves).\n",
    "\n",
    "When we use Tensorflow for learning, this type of Tensor is what we use for our input data (training or testing data)."
   ]
  },
  {
   "cell_type": "code",
   "execution_count": 7,
   "metadata": {
    "collapsed": false
   },
   "outputs": [
    {
     "name": "stdout",
     "output_type": "stream",
     "text": [
      "7.5\n",
      "[ 3.  7.]\n"
     ]
    }
   ],
   "source": [
    "a = tf.placeholder(tf.float32)\n",
    "b = tf.placeholder(tf.float32)\n",
    "\n",
    "adder_node = a + b\n",
    "\n",
    "with tf.Session() as sess:\n",
    "    print(sess.run(tf.add(a,b), feed_dict={a:3, b:4.5}))\n",
    "    print(sess.run(adder_node, feed_dict={a: [1, 3], b: [2,4]}))"
   ]
  },
  {
   "cell_type": "markdown",
   "metadata": {},
   "source": [
    "Another type of Tensor that we will encounter a lot is Variable Tensors. This type of Tensor needs to be given an initial value, and when it is used in a running Session, its value will be modified.\n",
    "\n",
    "When we use Tensorflow for learning, this type of Tensor is what we use to declare trainable parameters, such as weight or bias in our learning method.\n",
    "\n",
    "If we have Variable tensors, we need to initialize them before using them in a running Session. We do that by calling global_variables_initializer() or initialize_all_variables()."
   ]
  },
  {
   "cell_type": "code",
   "execution_count": 9,
   "metadata": {
    "collapsed": false
   },
   "outputs": [
    {
     "name": "stdout",
     "output_type": "stream",
     "text": [
      "[ 0.          0.30000001  0.60000002  0.90000004]\n"
     ]
    }
   ],
   "source": [
    "W=tf.Variable([.3], tf.float32)\n",
    "b=tf.Variable([-.3], tf.float32)\n",
    "\n",
    "x=tf.placeholder(tf.float32)\n",
    "\n",
    "linear_model=W*x + b\n",
    "\n",
    "init = tf.initialize_all_variables()\n",
    "\n",
    "with tf.Session() as sess:\n",
    "    sess.run(init)\n",
    "    print(sess.run(linear_model, {x:[1,2,3,4]}))"
   ]
  }
 ],
 "metadata": {
  "kernelspec": {
   "display_name": "Python 2",
   "language": "python",
   "name": "python2"
  },
  "language_info": {
   "codemirror_mode": {
    "name": "ipython",
    "version": 2
   },
   "file_extension": ".py",
   "mimetype": "text/x-python",
   "name": "python",
   "nbconvert_exporter": "python",
   "pygments_lexer": "ipython2",
   "version": "2.7.12"
  }
 },
 "nbformat": 4,
 "nbformat_minor": 2
}
